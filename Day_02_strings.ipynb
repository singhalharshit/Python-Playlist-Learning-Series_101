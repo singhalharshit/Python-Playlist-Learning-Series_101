{
 "cells": [
  {
   "cell_type": "code",
   "execution_count": 17,
   "metadata": {},
   "outputs": [
    {
     "name": "stdout",
     "output_type": "stream",
     "text": [
      "<class 'str'>\n"
     ]
    }
   ],
   "source": [
    "a=\"Harshit\"\n",
    "\n",
    "print(type(a))\n",
    "\n",
    "# accessing the elements of the string\n",
    "# +ve indexing\n",
    "# a[0]\n",
    "# a[1]\n",
    "# a[6]\n",
    "\n",
    "\n",
    "# -ve indexing\n",
    "# a[-1]\n",
    "# a[-7]"
   ]
  },
  {
   "cell_type": "code",
   "execution_count": 18,
   "metadata": {},
   "outputs": [
    {
     "data": {
      "text/plain": [
       "'tihsraH'"
      ]
     },
     "execution_count": 18,
     "metadata": {},
     "output_type": "execute_result"
    }
   ],
   "source": [
    "# Index Slicing\n",
    "a[0:5:2]\n",
    "\n",
    "a[::-1]\n"
   ]
  },
  {
   "cell_type": "code",
   "execution_count": 24,
   "metadata": {},
   "outputs": [
    {
     "data": {
      "text/plain": [
       "'this i'"
      ]
     },
     "execution_count": 24,
     "metadata": {},
     "output_type": "execute_result"
    }
   ],
   "source": [
    "s2 = \"this is my very first programming class's\"\n",
    "\n",
    "s2[0:6]\n"
   ]
  },
  {
   "cell_type": "code",
   "execution_count": 25,
   "metadata": {},
   "outputs": [
    {
     "data": {
      "text/plain": [
       "'HarshitHarshit'"
      ]
     },
     "execution_count": 25,
     "metadata": {},
     "output_type": "execute_result"
    }
   ],
   "source": [
    "s3='Harshit'\n",
    "s4='Singhal'\n",
    "\n",
    "s3+' '+s4 #string concatenation\n",
    "\n",
    "s3*2"
   ]
  },
  {
   "cell_type": "code",
   "execution_count": 30,
   "metadata": {},
   "outputs": [
    {
     "data": {
      "text/plain": [
       "2"
      ]
     },
     "execution_count": 30,
     "metadata": {},
     "output_type": "execute_result"
    }
   ],
   "source": [
    "s2 = \"this is my very first programming class's\"\n",
    "s2.count('t')\n",
    "\n",
    "\n",
    "# what does count do? It return the occurrence of any character in the string\n"
   ]
  },
  {
   "cell_type": "code",
   "execution_count": 34,
   "metadata": {},
   "outputs": [
    {
     "data": {
      "text/plain": [
       "['this', 'is', 'my', 'very', 'first', 'programming', \"class's\"]"
      ]
     },
     "execution_count": 34,
     "metadata": {},
     "output_type": "execute_result"
    }
   ],
   "source": [
    "s5 = \"this,is,my,very,first,programming,class's\"\n",
    "s5.split(',')\n",
    "# Very useful function to split the string based on the delimiter"
   ]
  },
  {
   "cell_type": "code",
   "execution_count": 9,
   "metadata": {},
   "outputs": [
    {
     "name": "stdout",
     "output_type": "stream",
     "text": [
      "My name is           Hello ji mai to khel gaya,and my age is 25\n"
     ]
    }
   ],
   "source": [
    "# string formatting\n",
    "\n",
    "name = input(\"Enter your name:\")\n",
    "age = 25\n",
    "print(f\"My name is {name},and my age is {age}\")"
   ]
  },
  {
   "cell_type": "code",
   "execution_count": 16,
   "metadata": {},
   "outputs": [
    {
     "name": "stdout",
     "output_type": "stream",
     "text": [
      "THIS IS MY VERY FIRST PROGRAMMING CLASS'S HELLO\n",
      "this is my very first programming class's hello\n",
      "This Is My Very First Programming Class'S Hello\n",
      "This is my very first programming class's hello\n",
      "this is my very first programming class's HELLO\n"
     ]
    }
   ],
   "source": [
    "s6= \"this is my very first programming class's HELLO\"\n",
    "\n",
    "print(s6.upper())\n",
    "print(s6.lower())\n",
    "print(s6.title())\n",
    "print(s6.capitalize())\n",
    "print(s6)"
   ]
  },
  {
   "cell_type": "code",
   "execution_count": 14,
   "metadata": {},
   "outputs": [
    {
     "name": "stdout",
     "output_type": "stream",
     "text": [
      "this is my very first programming class's HELLO     \n",
      "   this is my very first programming class's HELLO\n",
      "this is my very first programming class's HELLO\n",
      "   this is my very first programming class's HELLO     \n"
     ]
    }
   ],
   "source": [
    "s7 = \"   this is my very first programming class's HELLO     \"\n",
    "print(s7.lstrip())\n",
    "print(s7.rstrip())\n",
    "print(s7.strip())\n",
    "print(s7)\n"
   ]
  },
  {
   "cell_type": "code",
   "execution_count": 22,
   "metadata": {},
   "outputs": [
    {
     "name": "stdout",
     "output_type": "stream",
     "text": [
      "11\n"
     ]
    }
   ],
   "source": [
    "s8 = \"this is my very first programming class's HELLO\"\n",
    "\n",
    "print(s8.find('v'))"
   ]
  },
  {
   "cell_type": "code",
   "execution_count": 35,
   "metadata": {},
   "outputs": [
    {
     "data": {
      "text/plain": [
       "False"
      ]
     },
     "execution_count": 35,
     "metadata": {},
     "output_type": "execute_result"
    }
   ],
   "source": [
    "s9= \"Harshit123\"\n",
    "\n",
    "s9.isalnum()\n",
    "s9.isupper()\n",
    "s9.islower()\n",
    "s9.startswith('h')  "
   ]
  },
  {
   "cell_type": "code",
   "execution_count": 28,
   "metadata": {},
   "outputs": [
    {
     "data": {
      "text/plain": [
       "True"
      ]
     },
     "execution_count": 28,
     "metadata": {},
     "output_type": "execute_result"
    }
   ],
   "source": [
    "s10 = \"THIS IS MY VERY FIRST PROGRAMMING CLASS'S HELLO\"\n",
    "s10.isupper()"
   ]
  },
  {
   "cell_type": "code",
   "execution_count": 40,
   "metadata": {},
   "outputs": [
    {
     "data": {
      "text/plain": [
       "'      Harshit       '"
      ]
     },
     "execution_count": 40,
     "metadata": {},
     "output_type": "execute_result"
    }
   ],
   "source": [
    "s11= \"Harshit\"\n",
    "\n",
    "s11.replace('r','R')\n",
    "s11.center(20,' ')"
   ]
  },
  {
   "cell_type": "code",
   "execution_count": 41,
   "metadata": {},
   "outputs": [
    {
     "data": {
      "text/plain": [
       "('####Harshit\\t123#####',\n",
       " False,\n",
       " False,\n",
       " False,\n",
       " False,\n",
       " False,\n",
       " False,\n",
       " False,\n",
       " False,\n",
       " True,\n",
       " True,\n",
       " False,\n",
       " True,\n",
       " 'Harshit 123')"
      ]
     },
     "execution_count": 41,
     "metadata": {},
     "output_type": "execute_result"
    }
   ],
   "source": [
    "s6= \"Harshit\\t123\"\n",
    "a= s6.center(20 , '#') # This will add center the string with 20 #'s 10 from right and 10 from left making the content in Center\n",
    "b= s6.isupper() # By default it will return Boolean value like True or False. in this case it will return False as my complete string is not in upper case\n",
    "c= s6.islower() # By default it will return Boolean value like True or False. in this case it will return False as my complete string is not in lower case\n",
    "d= s6.isspace() # By default it will return Boolean value like True or False. in this case it will return False as my string is not a space. Space as in s6= \" \" A blank space\n",
    "e= s6.isdigit() # By default it will return Boolean value like True or False. in this case it will return False as my complete string is not a digit. If my string would have been s6= '123' then it would have returned Ture\n",
    "f= s6.isalnum() # By default it will return Boolean value like True or False. in this case it will return True as my string is combination of Alpna and numerical.\n",
    "g= s6.isalpha() # By default it will return Boolean value like True or False. in this case it will return False as my string is not completely alpha\n",
    "h= s6.startswith('i') # By default it will return Boolean value like True or False. in this case it will return False as my string doesnot starts with 'i'\n",
    "i= s6.startswith('h') # By default it will return Boolean value like True or False. in this case it will return False as my string doesnot starts with 'h'\n",
    "j= s6.startswith('H') # By default it will return Boolean value like True or False. in this case it will return Tur as my string starts with 'H'. PYTHON IS CASE SENSITIVE SO h and H are different\n",
    "k= s6.endswith('3') # By default it will return Boolean value like True or False. in this case it will return Tur as my string ends with '3'\n",
    "l= s6.isnumeric() # By default it will return Boolean value like True or False. in this case it will return False as my string is not completely string and for numeric it has to be completey numberic and with one character into the string. You can't take an empty string like \"\" or \" \"\n",
    "m= s6.isascii() # By default it will return Boolean value like True or False. In this case my character is a ASCII so it will always return True\n",
    "n= s6.expandtabs() # It will expand all the part wherever it find a '\\t'\n",
    "\n",
    "\n",
    "a,b,c,d,e,f,g,h,i,j,k,l,m,n"
   ]
  },
  {
   "cell_type": "code",
   "execution_count": 42,
   "metadata": {},
   "outputs": [
    {
     "data": {
      "text/plain": [
       "47"
      ]
     },
     "execution_count": 42,
     "metadata": {},
     "output_type": "execute_result"
    }
   ],
   "source": [
    "s10 = \"THIS IS MY VERY FIRST PROGRAMMING CLASS'S HELLO\"\n",
    "\n",
    "len(s10)"
   ]
  },
  {
   "cell_type": "code",
   "execution_count": null,
   "metadata": {},
   "outputs": [],
   "source": []
  }
 ],
 "metadata": {
  "kernelspec": {
   "display_name": "Python 3",
   "language": "python",
   "name": "python3"
  },
  "language_info": {
   "codemirror_mode": {
    "name": "ipython",
    "version": 3
   },
   "file_extension": ".py",
   "mimetype": "text/x-python",
   "name": "python",
   "nbconvert_exporter": "python",
   "pygments_lexer": "ipython3",
   "version": "3.12.2"
  }
 },
 "nbformat": 4,
 "nbformat_minor": 2
}
