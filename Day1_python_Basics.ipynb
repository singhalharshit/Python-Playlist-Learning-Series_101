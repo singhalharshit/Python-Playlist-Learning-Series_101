{
 "cells": [
  {
   "cell_type": "code",
   "execution_count": 2,
   "metadata": {},
   "outputs": [
    {
     "data": {
      "text/plain": [
       "10"
      ]
     },
     "execution_count": 2,
     "metadata": {},
     "output_type": "execute_result"
    }
   ],
   "source": [
    "# Data types in python\n",
    "# 1. int\n",
    "# 2. float\n",
    "# 3. complex\n",
    "# 4. bool\n",
    "# 5. str\n",
    "# 6. list\n",
    "# 7. tuple\n",
    "# 8. set\n",
    "# 9. dict\n",
    "# 10. None\n"
   ]
  },
  {
   "cell_type": "code",
   "execution_count": null,
   "metadata": {},
   "outputs": [],
   "source": [
    "# For int\n",
    "\n",
    "a= 10\n",
    "type(a)"
   ]
  },
  {
   "cell_type": "code",
   "execution_count": null,
   "metadata": {},
   "outputs": [],
   "source": [
    "# For float\n",
    "\n",
    "b= 10.5\n",
    "type(b)"
   ]
  },
  {
   "cell_type": "code",
   "execution_count": 10,
   "metadata": {},
   "outputs": [
    {
     "data": {
      "text/plain": [
       "complex"
      ]
     },
     "execution_count": 10,
     "metadata": {},
     "output_type": "execute_result"
    }
   ],
   "source": [
    "# For complex\n",
    "\n",
    "c= 10+5j\n",
    "type(c)\n"
   ]
  },
  {
   "cell_type": "code",
   "execution_count": 13,
   "metadata": {},
   "outputs": [
    {
     "name": "stdout",
     "output_type": "stream",
     "text": [
      "<class 'bool'>\n"
     ]
    }
   ],
   "source": [
    "# Bool - True or False\n",
    "\n",
    "d= True\n",
    "print(type(d))"
   ]
  },
  {
   "cell_type": "code",
   "execution_count": 12,
   "metadata": {},
   "outputs": [
    {
     "name": "stdout",
     "output_type": "stream",
     "text": [
      "<class 'str'>\n"
     ]
    }
   ],
   "source": [
    "# str - It's a string data type\n",
    "\n",
    "e=\"Hello World\"\n",
    "print(type(e))"
   ]
  },
  {
   "cell_type": "code",
   "execution_count": null,
   "metadata": {},
   "outputs": [],
   "source": [
    "# Basic Operations in python\n",
    "\n",
    "# 1. Arithmetic Operators\n",
    "# 2. Comparison Operators\n",
    "# 3. Logical Operators\n",
    "# 4. Assignment Operators\n",
    "# 5. Bitwise Operators\n",
    "# 6. Identity Operators\n",
    "# 7. Membership Operators\n"
   ]
  },
  {
   "cell_type": "code",
   "execution_count": 32,
   "metadata": {},
   "outputs": [
    {
     "name": "stdout",
     "output_type": "stream",
     "text": [
      "30\n",
      "10\n",
      "200\n",
      "0.5\n",
      "0\n",
      "0\n",
      "100\n"
     ]
    }
   ],
   "source": [
    "# 1. Arithmetic Operators = +,-,*,/,%,//,**\n",
    "\n",
    "a=10\n",
    "b=20\n",
    "\n",
    "# + operations\n",
    "c= a+b\n",
    "print(c)\n",
    "\n",
    "# - operations\n",
    "d=b-a\n",
    "print(d)\n",
    "\n",
    "# * multiplication\n",
    "e=a*b\n",
    "print(e)\n",
    "\n",
    "# / division\n",
    "\n",
    "f=a/b\n",
    "print(f)\n",
    "\n",
    "# So in division in the output we always get the quotioent in float\n",
    "\n",
    "# '%' it is also called as modulus operator\n",
    "\n",
    "g=b%a\n",
    "print(g)\n",
    "\n",
    "# Modulus operator gives the remainder\n",
    "\n",
    "# // it is called as floor division\n",
    "h=a//b\n",
    "print(h)\n",
    "\n",
    "# raised to **\n",
    "\n",
    "i=a**2\n",
    "print(i)"
   ]
  },
  {
   "cell_type": "code",
   "execution_count": null,
   "metadata": {},
   "outputs": [],
   "source": []
  }
 ],
 "metadata": {
  "kernelspec": {
   "display_name": "Python 3",
   "language": "python",
   "name": "python3"
  },
  "language_info": {
   "codemirror_mode": {
    "name": "ipython",
    "version": 3
   },
   "file_extension": ".py",
   "mimetype": "text/x-python",
   "name": "python",
   "nbconvert_exporter": "python",
   "pygments_lexer": "ipython3",
   "version": "3.12.2"
  }
 },
 "nbformat": 4,
 "nbformat_minor": 2
}
