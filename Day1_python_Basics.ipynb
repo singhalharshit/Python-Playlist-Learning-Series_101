{
 "cells": [
  {
   "cell_type": "code",
   "execution_count": 2,
   "metadata": {},
   "outputs": [
    {
     "data": {
      "text/plain": [
       "10"
      ]
     },
     "execution_count": 2,
     "metadata": {},
     "output_type": "execute_result"
    }
   ],
   "source": [
    "# Data types in python\n",
    "# 1. int\n",
    "# 2. float\n",
    "# 3. complex\n",
    "# 4. bool\n",
    "# 5. str\n",
    "# 6. list\n",
    "# 7. tuple\n",
    "# 8. set\n",
    "# 9. dict\n",
    "# 10. None\n"
   ]
  },
  {
   "cell_type": "code",
   "execution_count": null,
   "metadata": {},
   "outputs": [],
   "source": [
    "# For int\n",
    "\n",
    "a= 10\n",
    "type(a)"
   ]
  },
  {
   "cell_type": "code",
   "execution_count": null,
   "metadata": {},
   "outputs": [],
   "source": [
    "# For float\n",
    "\n",
    "b= 10.5\n",
    "type(b)"
   ]
  },
  {
   "cell_type": "code",
   "execution_count": 10,
   "metadata": {},
   "outputs": [
    {
     "data": {
      "text/plain": [
       "complex"
      ]
     },
     "execution_count": 10,
     "metadata": {},
     "output_type": "execute_result"
    }
   ],
   "source": [
    "# For complex\n",
    "\n",
    "c= 10+5j\n",
    "type(c)\n"
   ]
  },
  {
   "cell_type": "code",
   "execution_count": 13,
   "metadata": {},
   "outputs": [
    {
     "name": "stdout",
     "output_type": "stream",
     "text": [
      "<class 'bool'>\n"
     ]
    }
   ],
   "source": [
    "# Bool - True or False\n",
    "\n",
    "d= True\n",
    "print(type(d))"
   ]
  },
  {
   "cell_type": "code",
   "execution_count": 5,
   "metadata": {},
   "outputs": [
    {
     "name": "stdout",
     "output_type": "stream",
     "text": [
      "<class 'str'>\n"
     ]
    }
   ],
   "source": [
    "# str - It's a string data type\n",
    "\n",
    "e=\"Hello World\"\n",
    "print(type(e))"
   ]
  },
  {
   "cell_type": "code",
   "execution_count": 6,
   "metadata": {},
   "outputs": [],
   "source": [
    "# Basic Operations in python\n",
    "\n",
    "# 1. Arithmetic Operators\n",
    "# 2. Comparison Operators\n",
    "# 3. Logical Operators\n",
    "# 4. Assignment Operators\n",
    "# 5. Bitwise Operators\n",
    "# 6. Identity Operators\n",
    "# 7. Membership Operators\n"
   ]
  },
  {
   "cell_type": "code",
   "execution_count": 7,
   "metadata": {},
   "outputs": [
    {
     "name": "stdout",
     "output_type": "stream",
     "text": [
      "30\n",
      "10\n",
      "200\n",
      "0.5\n",
      "0\n",
      "0\n",
      "100\n"
     ]
    }
   ],
   "source": [
    "# 1. Arithmetic Operators = +,-,*,/,%,//,**\n",
    "\n",
    "a=10\n",
    "b=20\n",
    "\n",
    "# + operations\n",
    "c= a+b\n",
    "print(c)\n",
    "\n",
    "# - operations\n",
    "d=b-a\n",
    "print(d)\n",
    "\n",
    "# * multiplication\n",
    "e=a*b\n",
    "print(e)\n",
    "\n",
    "# / division\n",
    "\n",
    "f=a/b\n",
    "print(f)\n",
    "\n",
    "# So in division in the output we always get the quotioent in float\n",
    "\n",
    "# '%' it is also called as modulus operator\n",
    "\n",
    "g=b%a\n",
    "print(g)\n",
    "\n",
    "# Modulus operator gives the remainder\n",
    "\n",
    "# // it is called as floor division\n",
    "h=a//b\n",
    "print(h)\n",
    "\n",
    "# raised to **\n",
    "\n",
    "i=a**2\n",
    "print(i)"
   ]
  },
  {
   "cell_type": "code",
   "execution_count": 14,
   "metadata": {},
   "outputs": [
    {
     "name": "stdout",
     "output_type": "stream",
     "text": [
      "False\n",
      "True\n",
      "False To check for a==b\n",
      "True To check for c==b\n",
      "#######################\n",
      "False\n",
      "True\n",
      "True\n",
      "False\n"
     ]
    }
   ],
   "source": [
    "# 2. Comparison Operators\n",
    "# ><,<=,>=,==,!=\n",
    "\n",
    "a=10\n",
    "b=20\n",
    "c=20\n",
    "\n",
    "\n",
    "print(a>b)\n",
    "print(a<b)\n",
    "print(a==b,'To check for a==b')\n",
    "print(c==b,'To check for c==b')\n",
    "print('#######################')\n",
    "print(a>=b)\n",
    "print(a<=b)\n",
    "print(a!=b)\n",
    "print(b!=c)"
   ]
  },
  {
   "cell_type": "code",
   "execution_count": 36,
   "metadata": {},
   "outputs": [
    {
     "name": "stdout",
     "output_type": "stream",
     "text": [
      "This is for and operator\n",
      "False\n",
      "True\n",
      " \n",
      " \n",
      "This is for or operator\n",
      "True\n",
      "True\n",
      "False\n",
      " \n",
      " \n",
      "This is for not operator\n",
      "False\n",
      "True\n"
     ]
    }
   ],
   "source": [
    "# 3. Logical Operators - and, or, not\n",
    "\n",
    "# This goes for and operator\n",
    "\n",
    "# True and False = False\n",
    "# True and True = True\n",
    "# False and False = False\n",
    "# False and True = False\n",
    "\n",
    "# This goes for or operator\n",
    "\n",
    "# True or False = True\n",
    "# True or True = True\n",
    "# False or False = False\n",
    "# False or True = True\n",
    "\n",
    "print('This is for and operator')\n",
    "a= True\n",
    "b= False\n",
    "c= True\n",
    "d= False\n",
    "print(a and b)\n",
    "print(a and c)\n",
    "\n",
    "print(' ')\n",
    "print(' ')\n",
    "# For or operator\n",
    "print('This is for or operator')\n",
    "print(a or b)\n",
    "print(a or c)\n",
    "print(b or d)\n",
    "\n",
    "# This is for not operator\n",
    "print(' ')\n",
    "print(' ')\n",
    "print('This is for not operator')\n",
    "a= True\n",
    "b= False\n",
    "print(not a)\n",
    "print(not b)\n"
   ]
  },
  {
   "cell_type": "code",
   "execution_count": 46,
   "metadata": {},
   "outputs": [
    {
     "name": "stdout",
     "output_type": "stream",
     "text": [
      "200\n"
     ]
    }
   ],
   "source": [
    "# 4. Assignment Operators - Simple assignment, +=, -=, *=, /=, %=, //=, **=\n",
    "\n",
    "a=10\n",
    "b=20\n",
    "a+=b\n",
    "a-=b\n",
    "a*=b\n",
    "\n",
    "print(a)"
   ]
  },
  {
   "cell_type": "code",
   "execution_count": 48,
   "metadata": {},
   "outputs": [
    {
     "name": "stdout",
     "output_type": "stream",
     "text": [
      "20\n"
     ]
    }
   ],
   "source": [
    "# 5. Bitwise Operators - &, |, ^, ~, <<, >>\n",
    "\n",
    "a=20\n",
    "b=20\n",
    "print(a&b)"
   ]
  },
  {
   "cell_type": "code",
   "execution_count": 49,
   "metadata": {},
   "outputs": [
    {
     "name": "stdout",
     "output_type": "stream",
     "text": [
      "True\n",
      "False\n"
     ]
    }
   ],
   "source": [
    "# 7. Membership Operators - in, not in\n",
    "\n",
    "a= [1,2,3,4,5]\n",
    "print(1 in a)\n",
    "print(10 in a)"
   ]
  },
  {
   "cell_type": "code",
   "execution_count": 50,
   "metadata": {},
   "outputs": [
    {
     "name": "stdout",
     "output_type": "stream",
     "text": [
      "False\n",
      "True\n"
     ]
    }
   ],
   "source": [
    "# 6. Identity Operators - is, is not\n",
    "a=10\n",
    "b=20\n",
    "print(a is b)\n",
    "print(a is not b)"
   ]
  },
  {
   "cell_type": "code",
   "execution_count": 56,
   "metadata": {},
   "outputs": [
    {
     "ename": "SyntaxError",
     "evalue": "invalid syntax (2031239775.py, line 7)",
     "output_type": "error",
     "traceback": [
      "\u001b[1;36m  Cell \u001b[1;32mIn[56], line 7\u001b[1;36m\u001b[0m\n\u001b[1;33m    a b= 10\u001b[0m\n\u001b[1;37m      ^\u001b[0m\n\u001b[1;31mSyntaxError\u001b[0m\u001b[1;31m:\u001b[0m invalid syntax\n"
     ]
    }
   ],
   "source": [
    "# Variables Declaration in python\n",
    "\n",
    "# 1. You cannot create a variable with reserved keywords\n",
    "# 2. You cannot create a variable with special characters\n",
    "# 3. You cannot create a variable with spaces\n",
    "\n"
   ]
  },
  {
   "cell_type": "code",
   "execution_count": null,
   "metadata": {},
   "outputs": [],
   "source": []
  }
 ],
 "metadata": {
  "kernelspec": {
   "display_name": "Python 3",
   "language": "python",
   "name": "python3"
  },
  "language_info": {
   "codemirror_mode": {
    "name": "ipython",
    "version": 3
   },
   "file_extension": ".py",
   "mimetype": "text/x-python",
   "name": "python",
   "nbconvert_exporter": "python",
   "pygments_lexer": "ipython3",
   "version": "3.12.2"
  }
 },
 "nbformat": 4,
 "nbformat_minor": 2
}
